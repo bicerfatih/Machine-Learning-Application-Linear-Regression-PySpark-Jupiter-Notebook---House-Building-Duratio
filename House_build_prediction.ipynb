{
 "cells": [
  {
   "cell_type": "code",
   "execution_count": 666,
   "id": "508e479e",
   "metadata": {},
   "outputs": [],
   "source": [
    "from pyspark.sql import SparkSession #imports SparkSession"
   ]
  },
  {
   "cell_type": "code",
   "execution_count": 802,
   "id": "9fb4f91e",
   "metadata": {},
   "outputs": [],
   "source": [
    "spark = SparkSession.builder.appName('House_Build_Prediction').getOrCreate() #Creates the appname "
   ]
  },
  {
   "cell_type": "code",
   "execution_count": 671,
   "id": "281c954f",
   "metadata": {},
   "outputs": [],
   "source": [
    "df = spark.read.csv('/users/f/desktop/House_Build_Prediction5.csv',inferSchema = True, header = True) #Reads the data "
   ]
  },
  {
   "cell_type": "code",
   "execution_count": 672,
   "id": "e466542f",
   "metadata": {},
   "outputs": [
    {
     "data": {
      "text/plain": [
       "[Row(Company_Name='A', Houses_Built=2, Duration_Months=10.0, Size_Each_House_m2=100),\n",
       " Row(Company_Name='A', Houses_Built=3, Duration_Months=30.0, Size_Each_House_m2=200),\n",
       " Row(Company_Name='A', Houses_Built=5, Duration_Months=50.0, Size_Each_House_m2=200),\n",
       " Row(Company_Name='A', Houses_Built=10, Duration_Months=60.0, Size_Each_House_m2=120),\n",
       " Row(Company_Name='A', Houses_Built=12, Duration_Months=48.0, Size_Each_House_m2=80)]"
      ]
     },
     "execution_count": 672,
     "metadata": {},
     "output_type": "execute_result"
    }
   ],
   "source": [
    "df.head(5)"
   ]
  },
  {
   "cell_type": "code",
   "execution_count": null,
   "id": "63f6ef9c",
   "metadata": {},
   "outputs": [],
   "source": []
  },
  {
   "cell_type": "code",
   "execution_count": 673,
   "id": "d7085a5c",
   "metadata": {},
   "outputs": [
    {
     "name": "stdout",
     "output_type": "stream",
     "text": [
      "+------------+-----+\n",
      "|Company_Name|count|\n",
      "+------------+-----+\n",
      "|           B|    9|\n",
      "|           A|   10|\n",
      "+------------+-----+\n",
      "\n"
     ]
    }
   ],
   "source": [
    "df.groupBy('Company_Name').count().show(5)#Shows the groups and counts. "
   ]
  },
  {
   "cell_type": "code",
   "execution_count": 674,
   "id": "9e9cbb8b",
   "metadata": {},
   "outputs": [],
   "source": [
    "from pyspark.ml.feature import StringIndexer #imports string indexer - We should import this because we need to give index numbers to the string values to make it understandable. "
   ]
  },
  {
   "cell_type": "code",
   "execution_count": 675,
   "id": "92e23dbd",
   "metadata": {},
   "outputs": [],
   "source": [
    "indexer = StringIndexer(inputCol = 'Company_Name', outputCol = 'Company_Name_Index')#indexing the first string feature \"Job_title\""
   ]
  },
  {
   "cell_type": "code",
   "execution_count": 711,
   "id": "66eaebfb",
   "metadata": {},
   "outputs": [],
   "source": [
    "indexed3 = indexer.fit(df).transform(df)"
   ]
  },
  {
   "cell_type": "code",
   "execution_count": 712,
   "id": "cb40eb94",
   "metadata": {},
   "outputs": [
    {
     "data": {
      "text/plain": [
       "[Row(Company_Name='A', Houses_Built=2, Duration_Months=10.0, Size_Each_House_m2=100, Company_Name_Index=0.0),\n",
       " Row(Company_Name='A', Houses_Built=3, Duration_Months=30.0, Size_Each_House_m2=200, Company_Name_Index=0.0),\n",
       " Row(Company_Name='A', Houses_Built=5, Duration_Months=50.0, Size_Each_House_m2=200, Company_Name_Index=0.0),\n",
       " Row(Company_Name='A', Houses_Built=10, Duration_Months=60.0, Size_Each_House_m2=120, Company_Name_Index=0.0),\n",
       " Row(Company_Name='A', Houses_Built=12, Duration_Months=48.0, Size_Each_House_m2=80, Company_Name_Index=0.0)]"
      ]
     },
     "execution_count": 712,
     "metadata": {},
     "output_type": "execute_result"
    }
   ],
   "source": [
    "indexed2.head(5)"
   ]
  },
  {
   "cell_type": "code",
   "execution_count": 713,
   "id": "2a0c641b",
   "metadata": {},
   "outputs": [
    {
     "data": {
      "text/plain": [
       "[Row(Company_Name='A', Houses_Built=2, Duration_Months=10.0, Size_Each_House_m2=100, Company_Name_Index=0.0),\n",
       " Row(Company_Name='A', Houses_Built=3, Duration_Months=30.0, Size_Each_House_m2=200, Company_Name_Index=0.0),\n",
       " Row(Company_Name='A', Houses_Built=5, Duration_Months=50.0, Size_Each_House_m2=200, Company_Name_Index=0.0),\n",
       " Row(Company_Name='A', Houses_Built=10, Duration_Months=60.0, Size_Each_House_m2=120, Company_Name_Index=0.0),\n",
       " Row(Company_Name='A', Houses_Built=12, Duration_Months=48.0, Size_Each_House_m2=80, Company_Name_Index=0.0)]"
      ]
     },
     "execution_count": 713,
     "metadata": {},
     "output_type": "execute_result"
    }
   ],
   "source": [
    "indexed3.head(5)"
   ]
  },
  {
   "cell_type": "code",
   "execution_count": 679,
   "id": "3f70d0c3",
   "metadata": {},
   "outputs": [],
   "source": [
    "from pyspark.ml.linalg import Vectors \n",
    "\n"
   ]
  },
  {
   "cell_type": "code",
   "execution_count": 680,
   "id": "f46ebeed",
   "metadata": {},
   "outputs": [],
   "source": [
    "from pyspark.ml.feature import VectorAssembler "
   ]
  },
  {
   "cell_type": "code",
   "execution_count": 714,
   "id": "048ff4b9",
   "metadata": {},
   "outputs": [
    {
     "data": {
      "text/plain": [
       "['Company_Name',\n",
       " 'Houses_Built',\n",
       " 'Duration_Months',\n",
       " 'Size_Each_House_m2',\n",
       " 'Company_Name_Index']"
      ]
     },
     "execution_count": 714,
     "metadata": {},
     "output_type": "execute_result"
    }
   ],
   "source": [
    "indexed3.columns"
   ]
  },
  {
   "cell_type": "code",
   "execution_count": 719,
   "id": "c9a11382",
   "metadata": {},
   "outputs": [],
   "source": [
    "assembler2  = VectorAssembler(inputCols = [\n",
    " 'Houses_Built',\n",
    " 'Size_Each_House_m2',\n",
    " 'Company_Name_Index',\n",
    " ], outputCol = 'features')"
   ]
  },
  {
   "cell_type": "code",
   "execution_count": 720,
   "id": "ee52945b",
   "metadata": {},
   "outputs": [
    {
     "data": {
      "text/plain": [
       "VectorAssembler_434ebb2bd685"
      ]
     },
     "execution_count": 720,
     "metadata": {},
     "output_type": "execute_result"
    }
   ],
   "source": [
    "assembler2"
   ]
  },
  {
   "cell_type": "code",
   "execution_count": 721,
   "id": "0396d0f0",
   "metadata": {},
   "outputs": [],
   "source": [
    "output = assembler2.transform(indexed3)"
   ]
  },
  {
   "cell_type": "code",
   "execution_count": 722,
   "id": "212c919d",
   "metadata": {},
   "outputs": [
    {
     "name": "stdout",
     "output_type": "stream",
     "text": [
      "+------------+------------+---------------+------------------+------------------+----------------+\n",
      "|Company_Name|Houses_Built|Duration_Months|Size_Each_House_m2|Company_Name_Index|        features|\n",
      "+------------+------------+---------------+------------------+------------------+----------------+\n",
      "|           A|           2|           10.0|               100|               0.0| [2.0,100.0,0.0]|\n",
      "|           A|           3|           30.0|               200|               0.0| [3.0,200.0,0.0]|\n",
      "|           A|           5|           50.0|               200|               0.0| [5.0,200.0,0.0]|\n",
      "|           A|          10|           60.0|               120|               0.0|[10.0,120.0,0.0]|\n",
      "|           A|          12|           48.0|                80|               0.0| [12.0,80.0,0.0]|\n",
      "|           A|          15|           67.5|                90|               0.0| [15.0,90.0,0.0]|\n",
      "|           A|          18|          108.0|               120|               0.0|[18.0,120.0,0.0]|\n",
      "|           A|          20|           70.0|                70|               0.0| [20.0,70.0,0.0]|\n",
      "|           A|          24|          132.0|               110|               0.0|[24.0,110.0,0.0]|\n",
      "|           A|          30|          195.0|               130|               0.0|[30.0,130.0,0.0]|\n",
      "|           B|           4|           10.0|               100|               1.0| [4.0,100.0,1.0]|\n",
      "|           B|           8|           40.0|               200|               1.0| [8.0,200.0,1.0]|\n",
      "|           B|          20|           65.0|               130|               1.0|[20.0,130.0,1.0]|\n",
      "|           B|          25|           75.0|               120|               1.0|[25.0,120.0,1.0]|\n",
      "|           B|          28|          126.0|               180|               1.0|[28.0,180.0,1.0]|\n",
      "|           B|          32|          112.0|               140|               1.0|[32.0,140.0,1.0]|\n",
      "|           B|          34|           68.0|                80|               1.0| [34.0,80.0,1.0]|\n",
      "|           B|          36|          162.0|               180|               1.0|[36.0,180.0,1.0]|\n",
      "|           B|          40|          140.0|               140|               1.0|[40.0,140.0,1.0]|\n",
      "+------------+------------+---------------+------------------+------------------+----------------+\n",
      "\n"
     ]
    }
   ],
   "source": [
    "output.show()"
   ]
  },
  {
   "cell_type": "code",
   "execution_count": 723,
   "id": "34481e2d",
   "metadata": {},
   "outputs": [
    {
     "name": "stdout",
     "output_type": "stream",
     "text": [
      "+----------------+---------------+\n",
      "|        features|Duration_Months|\n",
      "+----------------+---------------+\n",
      "| [2.0,100.0,0.0]|           10.0|\n",
      "| [3.0,200.0,0.0]|           30.0|\n",
      "| [5.0,200.0,0.0]|           50.0|\n",
      "|[10.0,120.0,0.0]|           60.0|\n",
      "| [12.0,80.0,0.0]|           48.0|\n",
      "| [15.0,90.0,0.0]|           67.5|\n",
      "|[18.0,120.0,0.0]|          108.0|\n",
      "| [20.0,70.0,0.0]|           70.0|\n",
      "|[24.0,110.0,0.0]|          132.0|\n",
      "|[30.0,130.0,0.0]|          195.0|\n",
      "| [4.0,100.0,1.0]|           10.0|\n",
      "| [8.0,200.0,1.0]|           40.0|\n",
      "|[20.0,130.0,1.0]|           65.0|\n",
      "|[25.0,120.0,1.0]|           75.0|\n",
      "|[28.0,180.0,1.0]|          126.0|\n",
      "|[32.0,140.0,1.0]|          112.0|\n",
      "| [34.0,80.0,1.0]|           68.0|\n",
      "|[36.0,180.0,1.0]|          162.0|\n",
      "|[40.0,140.0,1.0]|          140.0|\n",
      "+----------------+---------------+\n",
      "\n"
     ]
    }
   ],
   "source": [
    "output.select('features','Duration_Months').show()"
   ]
  },
  {
   "cell_type": "code",
   "execution_count": 724,
   "id": "1fb2f39a",
   "metadata": {},
   "outputs": [],
   "source": [
    "final_data = output.select(['features','Duration_Months'])"
   ]
  },
  {
   "cell_type": "code",
   "execution_count": 725,
   "id": "2ece48b5",
   "metadata": {},
   "outputs": [
    {
     "name": "stdout",
     "output_type": "stream",
     "text": [
      "+----------------+---------------+\n",
      "|        features|Duration_Months|\n",
      "+----------------+---------------+\n",
      "| [2.0,100.0,0.0]|           10.0|\n",
      "| [3.0,200.0,0.0]|           30.0|\n",
      "| [5.0,200.0,0.0]|           50.0|\n",
      "|[10.0,120.0,0.0]|           60.0|\n",
      "| [12.0,80.0,0.0]|           48.0|\n",
      "| [15.0,90.0,0.0]|           67.5|\n",
      "|[18.0,120.0,0.0]|          108.0|\n",
      "| [20.0,70.0,0.0]|           70.0|\n",
      "|[24.0,110.0,0.0]|          132.0|\n",
      "|[30.0,130.0,0.0]|          195.0|\n",
      "| [4.0,100.0,1.0]|           10.0|\n",
      "| [8.0,200.0,1.0]|           40.0|\n",
      "|[20.0,130.0,1.0]|           65.0|\n",
      "|[25.0,120.0,1.0]|           75.0|\n",
      "|[28.0,180.0,1.0]|          126.0|\n",
      "|[32.0,140.0,1.0]|          112.0|\n",
      "| [34.0,80.0,1.0]|           68.0|\n",
      "|[36.0,180.0,1.0]|          162.0|\n",
      "|[40.0,140.0,1.0]|          140.0|\n",
      "+----------------+---------------+\n",
      "\n"
     ]
    }
   ],
   "source": [
    "final_data.show()"
   ]
  },
  {
   "cell_type": "code",
   "execution_count": 726,
   "id": "a4f44995",
   "metadata": {},
   "outputs": [
    {
     "data": {
      "text/plain": [
       "Row(features=DenseVector([2.0, 100.0, 0.0]), Duration_Months=10.0)"
      ]
     },
     "execution_count": 726,
     "metadata": {},
     "output_type": "execute_result"
    }
   ],
   "source": [
    "final_data.head()"
   ]
  },
  {
   "cell_type": "code",
   "execution_count": 727,
   "id": "cb957fab",
   "metadata": {},
   "outputs": [],
   "source": [
    "train_data,test_data = final_data.randomSplit([0.7,0.3])"
   ]
  },
  {
   "cell_type": "code",
   "execution_count": 728,
   "id": "d847b5ad",
   "metadata": {},
   "outputs": [
    {
     "name": "stdout",
     "output_type": "stream",
     "text": [
      "+-------+-----------------+\n",
      "|summary|  Duration_Months|\n",
      "+-------+-----------------+\n",
      "|  count|               11|\n",
      "|   mean|75.45454545454545|\n",
      "| stddev|58.19856293133643|\n",
      "|    min|             10.0|\n",
      "|    max|            195.0|\n",
      "+-------+-----------------+\n",
      "\n"
     ]
    }
   ],
   "source": [
    "train_data.describe().show()"
   ]
  },
  {
   "cell_type": "code",
   "execution_count": 785,
   "id": "c0805da2",
   "metadata": {},
   "outputs": [
    {
     "name": "stdout",
     "output_type": "stream",
     "text": [
      "+-------+-----------------+\n",
      "|summary|  Duration_Months|\n",
      "+-------+-----------------+\n",
      "|  count|                8|\n",
      "|   mean|          92.3125|\n",
      "| stddev|40.95375222648801|\n",
      "|    min|             48.0|\n",
      "|    max|            162.0|\n",
      "+-------+-----------------+\n",
      "\n"
     ]
    }
   ],
   "source": [
    "test_data.describe().show()"
   ]
  },
  {
   "cell_type": "code",
   "execution_count": 786,
   "id": "ca1b8279",
   "metadata": {},
   "outputs": [],
   "source": [
    "from pyspark.ml.regression import LinearRegression #imports the lineerRegression"
   ]
  },
  {
   "cell_type": "code",
   "execution_count": 787,
   "id": "db57c1f3",
   "metadata": {},
   "outputs": [],
   "source": [
    "duration_linear = LinearRegression(labelCol = 'Duration_Months')"
   ]
  },
  {
   "cell_type": "code",
   "execution_count": 788,
   "id": "8006237a",
   "metadata": {},
   "outputs": [
    {
     "name": "stdout",
     "output_type": "stream",
     "text": [
      "23/01/14 14:24:47 WARN Instrumentation: [ba9b035b] regParam is zero, which might cause numerical instability and overfitting.\n"
     ]
    }
   ],
   "source": [
    "trained_duration_model = duration_linear.fit(train_data)"
   ]
  },
  {
   "cell_type": "code",
   "execution_count": 789,
   "id": "2fc8a03e",
   "metadata": {},
   "outputs": [],
   "source": [
    "duration_results = trained_duration_model.evaluate(test_data)"
   ]
  },
  {
   "cell_type": "code",
   "execution_count": 790,
   "id": "a33abd91",
   "metadata": {},
   "outputs": [
    {
     "data": {
      "text/plain": [
       "12.125916582029038"
      ]
     },
     "execution_count": 790,
     "metadata": {},
     "output_type": "execute_result"
    }
   ],
   "source": [
    "duration_results.rootMeanSquaredError"
   ]
  },
  {
   "cell_type": "code",
   "execution_count": 791,
   "id": "0c0fcb09",
   "metadata": {},
   "outputs": [
    {
     "data": {
      "text/plain": [
       "0.8998078485039522"
      ]
     },
     "execution_count": 791,
     "metadata": {},
     "output_type": "execute_result"
    }
   ],
   "source": [
    "duration_results.r2"
   ]
  },
  {
   "cell_type": "code",
   "execution_count": 792,
   "id": "3c1d6d7d",
   "metadata": {},
   "outputs": [],
   "source": [
    "data = ([[2,140,0]])"
   ]
  },
  {
   "cell_type": "code",
   "execution_count": 793,
   "id": "e0a40212",
   "metadata": {},
   "outputs": [],
   "source": [
    "new_df = spark.createDataFrame(data)"
   ]
  },
  {
   "cell_type": "code",
   "execution_count": 794,
   "id": "e801ab6a",
   "metadata": {},
   "outputs": [
    {
     "name": "stdout",
     "output_type": "stream",
     "text": [
      "+---+---+---+\n",
      "| _1| _2| _3|\n",
      "+---+---+---+\n",
      "|  2|140|  0|\n",
      "+---+---+---+\n",
      "\n"
     ]
    }
   ],
   "source": [
    "new_df.show()"
   ]
  },
  {
   "cell_type": "code",
   "execution_count": 795,
   "id": "6d065512",
   "metadata": {},
   "outputs": [],
   "source": [
    "new_assembler = VectorAssembler(inputCols = [\n",
    " '_1',\n",
    " '_2',\n",
    " '_3',\n",
    " ], outputCol = 'features')"
   ]
  },
  {
   "cell_type": "code",
   "execution_count": 796,
   "id": "b8eb15bd",
   "metadata": {},
   "outputs": [],
   "source": [
    "new_data_output = new_assembler.transform(new_df)"
   ]
  },
  {
   "cell_type": "code",
   "execution_count": 797,
   "id": "735c64d3",
   "metadata": {},
   "outputs": [
    {
     "name": "stdout",
     "output_type": "stream",
     "text": [
      "+---+---+---+---------------+\n",
      "| _1| _2| _3|       features|\n",
      "+---+---+---+---------------+\n",
      "|  2|140|  0|[2.0,140.0,0.0]|\n",
      "+---+---+---+---------------+\n",
      "\n"
     ]
    }
   ],
   "source": [
    "new_data_output.show()"
   ]
  },
  {
   "cell_type": "code",
   "execution_count": 798,
   "id": "0aaf8145",
   "metadata": {},
   "outputs": [],
   "source": [
    "final_new_data_output = new_data_output.select('features')"
   ]
  },
  {
   "cell_type": "code",
   "execution_count": 799,
   "id": "c845e303",
   "metadata": {},
   "outputs": [
    {
     "name": "stdout",
     "output_type": "stream",
     "text": [
      "+---------------+\n",
      "|       features|\n",
      "+---------------+\n",
      "|[2.0,140.0,0.0]|\n",
      "+---------------+\n",
      "\n"
     ]
    }
   ],
   "source": [
    "final_new_data_output.show()"
   ]
  },
  {
   "cell_type": "code",
   "execution_count": 800,
   "id": "26b770ab",
   "metadata": {},
   "outputs": [],
   "source": [
    "prediction_new_data = trained_duration_model.transform(final_new_data_output)"
   ]
  },
  {
   "cell_type": "code",
   "execution_count": 801,
   "id": "6617b4fd",
   "metadata": {},
   "outputs": [
    {
     "name": "stdout",
     "output_type": "stream",
     "text": [
      "+---------------+-----------------+\n",
      "|       features|       prediction|\n",
      "+---------------+-----------------+\n",
      "|[2.0,140.0,0.0]|34.36829586935157|\n",
      "+---------------+-----------------+\n",
      "\n"
     ]
    }
   ],
   "source": [
    "prediction_new_data.show()"
   ]
  },
  {
   "cell_type": "code",
   "execution_count": null,
   "id": "773897a4",
   "metadata": {},
   "outputs": [],
   "source": []
  },
  {
   "cell_type": "code",
   "execution_count": null,
   "id": "d906657d",
   "metadata": {},
   "outputs": [],
   "source": []
  },
  {
   "cell_type": "code",
   "execution_count": null,
   "id": "202f2cec",
   "metadata": {},
   "outputs": [],
   "source": []
  }
 ],
 "metadata": {
  "kernelspec": {
   "display_name": "Python 3 (ipykernel)",
   "language": "python",
   "name": "python3"
  },
  "language_info": {
   "codemirror_mode": {
    "name": "ipython",
    "version": 3
   },
   "file_extension": ".py",
   "mimetype": "text/x-python",
   "name": "python",
   "nbconvert_exporter": "python",
   "pygments_lexer": "ipython3",
   "version": "3.9.12"
  }
 },
 "nbformat": 4,
 "nbformat_minor": 5
}
